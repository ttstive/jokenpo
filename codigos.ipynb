{
 "cells": [
  {
   "cell_type": "code",
   "execution_count": 19,
   "metadata": {},
   "outputs": [
    {
     "name": "stdout",
     "output_type": "stream",
     "text": [
      "Escolha entre pedra, papel ou tesoura:\n",
      "Você escolheu: tesoura\n",
      "Computador escolheu: papel\n",
      "Você venceu!\n"
     ]
    }
   ],
   "source": [
    "import random\n",
    "\n",
    "class Jokenpo:\n",
    "    def __init__(self):\n",
    "        self.opcoes = ['pedra', 'papel', 'tesoura']\n",
    "\n",
    "    def jogar(self):\n",
    "        print(\"Escolha entre pedra, papel ou tesoura:\")\n",
    "        jogador = input().lower()\n",
    "\n",
    "        if jogador not in self.opcoes:\n",
    "            print(\"Escolha inválida!\")\n",
    "            return\n",
    "\n",
    "        computador = random.choice(self.opcoes)\n",
    "        \n",
    "        print(f\"Você escolheu: {jogador}\")\n",
    "        print(f\"Computador escolheu: {computador}\")\n",
    "\n",
    "        self.resultado(jogador, computador)\n",
    "\n",
    "    def resultado(self, jogador, computador):\n",
    "        if jogador == computador:\n",
    "            print(\"Empate!\")\n",
    "        elif (jogador == 'pedra' and computador == 'tesoura') or \\\n",
    "             (jogador == 'papel' and computador == 'pedra') or \\\n",
    "             (jogador == 'tesoura' and computador == 'papel'):\n",
    "            print(\"Você venceu!\")\n",
    "        else:\n",
    "            print(\"Você perdeu!\")\n",
    "\n",
    "# Instanciar a classe e jogar\n",
    "jogo = Jokenpo()\n",
    "jogo.jogar()\n"
   ]
  },
  {
   "cell_type": "code",
   "execution_count": null,
   "metadata": {},
   "outputs": [],
   "source": [
    "import random\n",
    "\n",
    "class JokenpoSimulado:\n",
    "    def __init__(self):\n",
    "        self.opcoes = ['pedra', 'papel', 'tesoura']\n",
    "\n",
    "    def jogar(self):\n",
    "        jogador1 = random.choice(self.opcoes)\n",
    "        jogador2 = random.choice(self.opcoes)\n",
    "        \n",
    "        print(f\"Jogador 1 escolheu: {jogador1}\")\n",
    "        print(f\"Jogador 2 escolheu: {jogador2}\")\n",
    "        \n",
    "        self.resultado(jogador1, jogador2)\n",
    "\n",
    "    def resultado(self, jogador1, jogador2):\n",
    "        if jogador1 == jogador2:\n",
    "            print(\"Empate!\")\n",
    "        elif (jogador1 == 'pedra' and jogador2 == 'tesoura') or \\\n",
    "             (jogador1 == 'papel' and jogador2 == 'pedra') or \\\n",
    "             (jogador1 == 'tesoura' and jogador2 == 'papel'):\n",
    "            print(\"Jogador 1 venceu!\")\n",
    "        else:\n",
    "            print(\"Jogador 2 venceu!\")\n",
    "\n",
    "# Instanciar a classe e simular\n",
    "jogo_simulado = JokenpoSimulado()\n",
    "jogo_simulado.jogar()\n"
   ]
  },
  {
   "cell_type": "code",
   "execution_count": 4,
   "metadata": {},
   "outputs": [
    {
     "name": "stdout",
     "output_type": "stream",
     "text": [
      "Collecting qrcode\n",
      "  Downloading qrcode-8.0-py3-none-any.whl (45 kB)\n",
      "\u001b[2K     \u001b[90m━━━━━━━━━━━━━━━━━━━━━━━━━━━━━━━━━━━━━━━━\u001b[0m \u001b[32m45.7/45.7 kB\u001b[0m \u001b[31m79.3 kB/s\u001b[0m eta \u001b[36m0:00:00\u001b[0ma \u001b[36m0:00:01\u001b[0m\n",
      "\u001b[?25hInstalling collected packages: qrcode\n",
      "Successfully installed qrcode-8.0\n",
      "Note: you may need to restart the kernel to use updated packages.\n"
     ]
    }
   ],
   "source": [
    "pip install qrcode"
   ]
  },
  {
   "cell_type": "code",
   "execution_count": 21,
   "metadata": {},
   "outputs": [
    {
     "name": "stdout",
     "output_type": "stream",
     "text": [
      "QR Code gerado e salvo como dados/meu_linkedin.png\n"
     ]
    }
   ],
   "source": [
    "import qrcode\n",
    "import os\n",
    "\n",
    "def gerar_qr_code(texto, nome_arquivo=\"qr_code.png\"):\n",
    "    # Cria o objeto QR Code\n",
    "    qr = qrcode.QRCode(\n",
    "        version=1,  # Tamanho do QR Code (1 é o menor)\n",
    "        error_correction=qrcode.constants.ERROR_CORRECT_L,  # Nível de correção de erro\n",
    "        box_size=10,  # Tamanho de cada caixa no QR Code\n",
    "        border=4,  # Tamanho da borda\n",
    "    )\n",
    "    \n",
    "    # Adiciona os dados ao QR Code\n",
    "    qr.add_data(texto)\n",
    "    qr.make(fit=True)\n",
    "\n",
    "    # Cria a imagem do QR Code\n",
    "    img = qr.make_image(fill='black', back_color='white')\n",
    "\n",
    "    # Cria o diretório se não existir\n",
    "    if not os.path.exists('dados'):\n",
    "        os.makedirs('dados')\n",
    "\n",
    "    # Salva a imagem em um arquivo\n",
    "    img.save(f\"dados/{nome_arquivo}\")\n",
    "    print(f\"QR Code gerado e salvo como dados/{nome_arquivo}\")\n",
    "\n",
    "# Exemplo de uso\n",
    "texto_para_qr= \"https://www.linkedin.com/in/estevaolins/\"\n",
    "gerar_qr_code(texto_para_qr, \"meu_linkedin.png\")\n"
   ]
  }
 ],
 "metadata": {
  "kernelspec": {
   "display_name": "base",
   "language": "python",
   "name": "python3"
  },
  "language_info": {
   "codemirror_mode": {
    "name": "ipython",
    "version": 3
   },
   "file_extension": ".py",
   "mimetype": "text/x-python",
   "name": "python",
   "nbconvert_exporter": "python",
   "pygments_lexer": "ipython3",
   "version": "3.9.13"
  }
 },
 "nbformat": 4,
 "nbformat_minor": 2
}
